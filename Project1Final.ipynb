{
  "nbformat": 4,
  "nbformat_minor": 0,
  "metadata": {
    "colab": {
      "provenance": [],
      "include_colab_link": true
    },
    "kernelspec": {
      "name": "python3",
      "display_name": "Python 3"
    },
    "language_info": {
      "name": "python"
    }
  },
  "cells": [
    {
      "cell_type": "markdown",
      "metadata": {
        "id": "view-in-github",
        "colab_type": "text"
      },
      "source": [
        "<a href=\"https://colab.research.google.com/github/SVT23/Text-Mining-and-Language-/blob/main/Project1Final.ipynb\" target=\"_parent\"><img src=\"https://colab.research.google.com/assets/colab-badge.svg\" alt=\"Open In Colab\"/></a>"
      ]
    },
    {
      "cell_type": "markdown",
      "source": [
        "# Aid Data"
      ],
      "metadata": {
        "id": "paNVmpacPbbq"
      }
    },
    {
      "cell_type": "code",
      "source": [
        "import pandas as pd\n",
        "import numpy as np\n",
        "# open the CSV file\n",
        "aid_dev = pd.read_csv('aid_dev.csv', sep='|')\n",
        "aid_train = pd.read_csv('aid_train.csv', sep='|')"
      ],
      "metadata": {
        "id": "_vc43WVePhrk"
      },
      "execution_count": null,
      "outputs": []
    },
    {
      "cell_type": "markdown",
      "source": [
        "## Train Test Split\n",
        "The data was already split for us, therefore we only need to put the columns into separate arrays."
      ],
      "metadata": {
        "id": "sf53xsKyPnOM"
      }
    },
    {
      "cell_type": "code",
      "source": [
        "aid_train_X = aid_train['Text']\n",
        "aid_train_Y = aid_train['Label']\n",
        "aid_dev_X = aid_dev['Text']\n",
        "aid_dev_Y = aid_dev['Label']"
      ],
      "metadata": {
        "id": "AjEMVlGWPugh"
      },
      "execution_count": null,
      "outputs": []
    },
    {
      "cell_type": "markdown",
      "source": [
        "## BOW and TF-IDF\n",
        "\n",
        "Using vectorizer to get text into matrix format. Result will be a matrix of as many rows as the train or test set and the columns will be the unique terms (or words) in the data."
      ],
      "metadata": {
        "id": "QtqYO7sdPyTt"
      }
    },
    {
      "cell_type": "code",
      "source": [
        "from sklearn.feature_extraction.text import TfidfVectorizer\n",
        "vectorizer = TfidfVectorizer()\n",
        "\n",
        "# Aid Train TFIDF\n",
        "aid_train_X_tfidf = vectorizer.fit_transform(aid_train_X[:400]).toarray()\n",
        "print(aid_train_X_tfidf.shape) # not needed for project, just to see size"
      ],
      "metadata": {
        "id": "N31YZAyxPxix",
        "outputId": "89be3237-27f7-4de8-8dc2-26e0598b3d96",
        "colab": {
          "base_uri": "https://localhost:8080/"
        }
      },
      "execution_count": null,
      "outputs": [
        {
          "output_type": "stream",
          "name": "stdout",
          "text": [
            "(400, 3139)\n"
          ]
        }
      ]
    },
    {
      "cell_type": "code",
      "source": [
        "# Aid Dev TFIDF\n",
        "aid_dev_X_tfidf = vectorizer.transform(aid_dev_X[:400]).toarray()\n",
        "print('aid_dev tfidf test:', aid_dev_X_tfidf.shape)"
      ],
      "metadata": {
        "id": "H8doiHJAQSv1",
        "outputId": "143c6c97-fbba-46d7-a9b8-2656e3840f0c",
        "colab": {
          "base_uri": "https://localhost:8080/"
        }
      },
      "execution_count": null,
      "outputs": [
        {
          "output_type": "stream",
          "name": "stdout",
          "text": [
            "aid_dev tfidf test: (400, 3139)\n"
          ]
        }
      ]
    },
    {
      "cell_type": "markdown",
      "source": [
        "### Naive Bayes Model for TFIDF"
      ],
      "metadata": {
        "id": "gLyQ1uYEryZ_"
      }
    },
    {
      "cell_type": "code",
      "source": [
        "from sklearn.naive_bayes import MultinomialNB\n",
        "clf = MultinomialNB()\n",
        "clf.fit(aid_train_X_tfidf, aid_train_Y[:400])\n",
        "\n",
        "# test results = predict on test set data, to get predicted labels\n",
        "predicted = clf.predict(aid_dev_X_tfidf)"
      ],
      "metadata": {
        "id": "pDEb0wx7Qir_"
      },
      "execution_count": null,
      "outputs": []
    },
    {
      "cell_type": "markdown",
      "source": [
        "### SVC Classification for TFIDF\n",
        "\n"
      ],
      "metadata": {
        "id": "_Spb4K2MR9_I"
      }
    },
    {
      "cell_type": "code",
      "source": [
        "from sklearn import svm\n",
        "clf = svm.SVC()\n",
        "clf.fit(aid_train_X_tfidf, aid_train_Y[:400])\n",
        "\n",
        "# test results = predict on test set data, to get predicted labels\n",
        "predicted = clf.predict(aid_dev_X_tfidf)"
      ],
      "metadata": {
        "id": "QPZcNHStSBHG"
      },
      "execution_count": null,
      "outputs": []
    },
    {
      "cell_type": "markdown",
      "source": [
        "## Count Vectorizer"
      ],
      "metadata": {
        "id": "Rq44gDIUqjrm"
      }
    },
    {
      "cell_type": "code",
      "source": [
        "from sklearn.feature_extraction.text import CountVectorizer\n",
        "vectorizer = CountVectorizer()\n",
        "\n",
        "aid_train_X_countVectorizer = vectorizer.fit_transform(aid_train_X[:400]).toarray()"
      ],
      "metadata": {
        "id": "Yl5xQ0bkqnuS"
      },
      "execution_count": null,
      "outputs": []
    },
    {
      "cell_type": "code",
      "source": [
        "aid_dev_X_countVectorizer = vectorizer.transform(aid_dev_X[:400]).toarray()"
      ],
      "metadata": {
        "id": "rjAPIBQAq6i-"
      },
      "execution_count": null,
      "outputs": []
    },
    {
      "cell_type": "markdown",
      "source": [
        "### Naive Bayes Model for Count Vectorizer"
      ],
      "metadata": {
        "id": "GMttGrUpr2zO"
      }
    },
    {
      "cell_type": "code",
      "source": [
        "from sklearn.naive_bayes import MultinomialNB\n",
        "clf = MultinomialNB()\n",
        "\n",
        "clf.fit(aid_train_X_countVectorizer, aid_train_Y[:400])\n",
        "# test results = predict on test set data, to get predicted labels\n",
        "predicted = clf.predict(aid_dev_X_countVectorizer)"
      ],
      "metadata": {
        "id": "CmrwcKMdr6cz"
      },
      "execution_count": null,
      "outputs": []
    },
    {
      "cell_type": "markdown",
      "source": [
        "### SVC Classification for Count Vectorizer"
      ],
      "metadata": {
        "id": "fchTFbz_tpYo"
      }
    },
    {
      "cell_type": "code",
      "source": [
        "from sklearn import svm\n",
        "clf = svm.SVC()\n",
        "clf.fit(aid_train_X_countVectorizer, aid_train_Y[:400])\n",
        "\n",
        "# test results = predict on test set data, to get predicted labels\n",
        "predicted = clf.predict(aid_dev_X_countVectorizer)"
      ],
      "metadata": {
        "id": "G6xGVZx3QsRj"
      },
      "execution_count": null,
      "outputs": []
    },
    {
      "cell_type": "markdown",
      "source": [
        "## Aid **Metrics**\n",
        "\n",
        "Here we get the accuracy of the model prediction on the test set."
      ],
      "metadata": {
        "id": "UCJV6_RMSwVx"
      }
    },
    {
      "cell_type": "code",
      "source": [
        "from sklearn import metrics\n",
        "\n",
        "display(metrics.accuracy_score(aid_dev_Y[:400], predicted))\n",
        "display(metrics.f1_score(aid_dev_Y[:400], predicted))\n",
        "display(metrics.recall_score(aid_dev_Y[:400], predicted))\n",
        "display(metrics.confusion_matrix(aid_dev_Y[:400], predicted))"
      ],
      "metadata": {
        "id": "j0xjf7PCScsW",
        "outputId": "cb378e01-1865-49c1-8f10-20d03a91c3a5",
        "colab": {
          "base_uri": "https://localhost:8080/",
          "height": 104
        }
      },
      "execution_count": null,
      "outputs": [
        {
          "output_type": "display_data",
          "data": {
            "text/plain": [
              "0.615"
            ]
          },
          "metadata": {}
        },
        {
          "output_type": "display_data",
          "data": {
            "text/plain": [
              "0.6051282051282052"
            ]
          },
          "metadata": {}
        },
        {
          "output_type": "display_data",
          "data": {
            "text/plain": [
              "0.7763157894736842"
            ]
          },
          "metadata": {}
        },
        {
          "output_type": "display_data",
          "data": {
            "text/plain": [
              "array([[128, 120],\n",
              "       [ 34, 118]])"
            ]
          },
          "metadata": {}
        }
      ]
    },
    {
      "cell_type": "markdown",
      "source": [
        "# Coronavirus Data"
      ],
      "metadata": {
        "id": "0DMc4h-PS2rU"
      }
    },
    {
      "cell_type": "code",
      "source": [
        "import pandas as pd\n",
        "import numpy as np\n",
        "\n",
        "# open the CSV file\n",
        "corona_dev = pd.read_csv('corona_dev.csv', sep='|')\n",
        "corona_train = pd.read_csv('corona_train.csv', sep='|')"
      ],
      "metadata": {
        "id": "8auEU89RS5q5"
      },
      "execution_count": 1,
      "outputs": []
    },
    {
      "cell_type": "markdown",
      "source": [
        "## Train Test Split\n",
        "The data was already split for us, therefore we only need to put the columns into separate arrays."
      ],
      "metadata": {
        "id": "_JziSKu-S_oI"
      }
    },
    {
      "cell_type": "code",
      "source": [
        "corona_train_X = corona_train['Text']\n",
        "corona_train_Y = corona_train['Label']\n",
        "corona_dev_X = corona_dev['Text']\n",
        "corona_dev_Y = corona_dev['Label']"
      ],
      "metadata": {
        "id": "OKWm4I0eTD5j"
      },
      "execution_count": 2,
      "outputs": []
    },
    {
      "cell_type": "markdown",
      "source": [
        "## BOW and TF-IDF\n",
        "Using vectorizer to get text into matrix format. Result will be a matrix of as many rows as the train or test set and the columns will be the unique terms (or words) in the data."
      ],
      "metadata": {
        "id": "BOpUTC6lTMZQ"
      }
    },
    {
      "cell_type": "code",
      "source": [
        "from sklearn.feature_extraction.text import TfidfVectorizer\n",
        "vectorizer = TfidfVectorizer()\n",
        "\n",
        "# Corona Train TFIDF\n",
        "corona_train_X_tfidf = vectorizer.fit_transform(corona_train_X[:400]).toarray()\n"
      ],
      "metadata": {
        "id": "vRRQsjXbTT43"
      },
      "execution_count": 3,
      "outputs": []
    },
    {
      "cell_type": "code",
      "source": [
        "# Corona Dev TFIDF\n",
        "corona_dev_X_tfidf = vectorizer.transform(corona_dev_X[:400]).toarray()"
      ],
      "metadata": {
        "id": "tnxe6MOSTfnH"
      },
      "execution_count": 4,
      "outputs": []
    },
    {
      "cell_type": "markdown",
      "source": [
        "### Naive Bayes Model for TFIDF"
      ],
      "metadata": {
        "id": "ymgvInt-TmH3"
      }
    },
    {
      "cell_type": "code",
      "source": [
        "from sklearn.naive_bayes import MultinomialNB\n",
        "clf = MultinomialNB()\n",
        "\n",
        "clf.fit(corona_train_X_tfidf, corona_train_Y[:400])\n",
        "# test results = predict on test set data, to get predicted labels\n",
        "predicted = clf.predict(corona_dev_X_tfidf)"
      ],
      "metadata": {
        "id": "M6QE6Kj0TuBO"
      },
      "execution_count": 5,
      "outputs": []
    },
    {
      "cell_type": "markdown",
      "source": [
        "### SVC Classification for TFIDF"
      ],
      "metadata": {
        "id": "kqPiCufpUZuN"
      }
    },
    {
      "cell_type": "code",
      "source": [
        "from sklearn import svm\n",
        "clf = svm.SVC()\n",
        "\n",
        "clf.fit(corona_train_X_tfidf, corona_train_Y[:400])\n",
        "# test results = predict on test set data, to get predicted labels\n",
        "predicted = clf.predict(corona_dev_X_tfidf)"
      ],
      "metadata": {
        "id": "Fdf_usWLUc7b"
      },
      "execution_count": null,
      "outputs": []
    },
    {
      "cell_type": "markdown",
      "source": [
        "## Count Vectorizer"
      ],
      "metadata": {
        "id": "e8_qaGxerQ_m"
      }
    },
    {
      "cell_type": "code",
      "source": [
        "from sklearn.feature_extraction.text import CountVectorizer\n",
        "vectorizer = CountVectorizer()\n",
        "\n",
        "corona_train_X_countVectorizer = vectorizer.fit_transform(corona_train_X[:400]).toarray()"
      ],
      "metadata": {
        "id": "rRy2wvjCrVJ5"
      },
      "execution_count": null,
      "outputs": []
    },
    {
      "cell_type": "code",
      "source": [
        "corona_dev_X_countVectorizer = vectorizer.transform(corona_dev_X[:400]).toarray()"
      ],
      "metadata": {
        "id": "96N8nRNzrjos"
      },
      "execution_count": null,
      "outputs": []
    },
    {
      "cell_type": "markdown",
      "source": [
        "### Naive Bayes Model for Count Vectorizer"
      ],
      "metadata": {
        "id": "yggKGVi0ua1a"
      }
    },
    {
      "cell_type": "code",
      "source": [
        "from sklearn.naive_bayes import MultinomialNB\n",
        "clf = MultinomialNB()\n",
        "\n",
        "clf.fit(corona_train_X_countVectorizer, corona_train_Y[:400])\n",
        "# test results = predict on test set data, to get predicted labels\n",
        "predicted = clf.predict(corona_dev_X_countVectorizer)"
      ],
      "metadata": {
        "id": "UScRQ2p5ueh9"
      },
      "execution_count": null,
      "outputs": []
    },
    {
      "cell_type": "markdown",
      "source": [
        "### SVC Classification for Count Vectorizer"
      ],
      "metadata": {
        "id": "wv8Og01ZukQu"
      }
    },
    {
      "cell_type": "code",
      "source": [
        "from sklearn import svm\n",
        "clf = svm.SVC()\n",
        "clf.fit(corona_train_X_countVectorizer, corona_train_Y[:400])\n",
        "\n",
        "# test results = predict on test set data, to get predicted labels\n",
        "predicted = clf.predict(corona_dev_X_countVectorizer)"
      ],
      "metadata": {
        "id": "BqfCcBGlutrs"
      },
      "execution_count": null,
      "outputs": []
    },
    {
      "cell_type": "markdown",
      "source": [
        "## Corona **Metrics**"
      ],
      "metadata": {
        "id": "t0288pUKT-0j"
      }
    },
    {
      "cell_type": "code",
      "source": [
        "from sklearn import metrics\n",
        "\n",
        "display(metrics.accuracy_score(corona_dev_Y[:400], predicted))\n",
        "display(metrics.f1_score(corona_dev_Y[:400], predicted))\n",
        "display(metrics.recall_score(corona_dev_Y[:400], predicted))\n",
        "display(metrics.confusion_matrix(corona_dev_Y[:400], predicted))"
      ],
      "metadata": {
        "id": "It9AhhjVUVt1",
        "colab": {
          "base_uri": "https://localhost:8080/",
          "height": 104
        },
        "outputId": "3e912d9d-2d84-4841-eb96-bc1f3bbcafe5"
      },
      "execution_count": 6,
      "outputs": [
        {
          "output_type": "display_data",
          "data": {
            "text/plain": [
              "0.685"
            ]
          },
          "metadata": {}
        },
        {
          "output_type": "display_data",
          "data": {
            "text/plain": [
              "0.7083333333333334"
            ]
          },
          "metadata": {}
        },
        {
          "output_type": "display_data",
          "data": {
            "text/plain": [
              "0.8052631578947368"
            ]
          },
          "metadata": {}
        },
        {
          "output_type": "display_data",
          "data": {
            "text/plain": [
              "array([[121,  89],\n",
              "       [ 37, 153]])"
            ]
          },
          "metadata": {}
        }
      ]
    }
  ]
}