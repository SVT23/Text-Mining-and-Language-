{
  "nbformat": 4,
  "nbformat_minor": 0,
  "metadata": {
    "colab": {
      "provenance": [],
      "authorship_tag": "ABX9TyMMFnl9rEHb8fcidUKuYqoc",
      "include_colab_link": true
    },
    "kernelspec": {
      "name": "python3",
      "display_name": "Python 3"
    },
    "language_info": {
      "name": "python"
    }
  },
  "cells": [
    {
      "cell_type": "markdown",
      "metadata": {
        "id": "view-in-github",
        "colab_type": "text"
      },
      "source": [
        "<a href=\"https://colab.research.google.com/github/SVT23/Text-Mining-and-Language-/blob/main/Copy_of_BOW0.ipynb\" target=\"_parent\"><img src=\"https://colab.research.google.com/assets/colab-badge.svg\" alt=\"Open In Colab\"/></a>"
      ]
    },
    {
      "cell_type": "code",
      "execution_count": null,
      "metadata": {
        "id": "PzWA3EDDOFbh"
      },
      "outputs": [],
      "source": [
        "# documents \n",
        "docs = [\"I like this movie, it's funny.\",\n",
        "        'I hate this movie.',\n",
        "        'It was awesome! I like it',\n",
        "        'Nice. I love it.']"
      ]
    },
    {
      "cell_type": "code",
      "source": [
        "# Import the libaries we need\n",
        "from sklearn.feature_extraction.text import CountVectorizer\n",
        "\n",
        "# use the count vectorizer to get the bag of words matrix with\n",
        "# frequency of term per doc\n",
        "count_vectorizer = CountVectorizer()\n",
        "\n",
        "# create the bag of words model based on the documents\n",
        "bag_of_words = count_"
      ],
      "metadata": {
        "id": "J4RyhNCdO3mf"
      },
      "execution_count": null,
      "outputs": []
    }
  ]
}