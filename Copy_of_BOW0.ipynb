{
  "nbformat": 4,
  "nbformat_minor": 0,
  "metadata": {
    "colab": {
      "provenance": [],
      "authorship_tag": "ABX9TyPWK+Awj5/xB4mnh61De/P8",
      "include_colab_link": true
    },
    "kernelspec": {
      "name": "python3",
      "display_name": "Python 3"
    },
    "language_info": {
      "name": "python"
    }
  },
  "cells": [
    {
      "cell_type": "markdown",
      "metadata": {
        "id": "view-in-github",
        "colab_type": "text"
      },
      "source": [
        "<a href=\"https://colab.research.google.com/github/SVT23/Text-Mining-and-Language-/blob/main/Copy_of_BOW0.ipynb\" target=\"_parent\"><img src=\"https://colab.research.google.com/assets/colab-badge.svg\" alt=\"Open In Colab\"/></a>"
      ]
    },
    {
      "cell_type": "code",
      "execution_count": 2,
      "metadata": {
        "id": "PzWA3EDDOFbh"
      },
      "outputs": [],
      "source": [
        "# documents \n",
        "docs = [\"I like this movie, it's funny.\",\n",
        "        'I hate this movie.',\n",
        "        'It was awesome! I like it',\n",
        "        'Nice. I love it.']"
      ]
    },
    {
      "cell_type": "code",
      "source": [
        "# Import the libaries we need\n",
        "from sklearn.feature_extraction.text import CountVectorizer\n",
        "\n",
        "# use the count vectorizer to get the bag of words matrix with\n",
        "# frequency of term per doc\n",
        "count_vectorizer = CountVectorizer()\n",
        "\n",
        "# create the bag of words model based on the documents\n",
        "bag_of_words = count_vectorizer.fit_transform(docs)\n",
        "\n",
        "# the result is a sparse array, good whne we have a large amount of text\n",
        "# use toarray() to view a matrix of word counts\n",
        "print(bag_of_words.toarray())"
      ],
      "metadata": {
        "colab": {
          "base_uri": "https://localhost:8080/"
        },
        "id": "J4RyhNCdO3mf",
        "outputId": "b6b9c6b1-c80f-4ba8-886f-b1d4f2135fb0"
      },
      "execution_count": 3,
      "outputs": [
        {
          "output_type": "stream",
          "name": "stdout",
          "text": [
            "[[0 1 0 1 1 0 1 0 1 0]\n",
            " [0 0 1 0 0 0 1 0 1 0]\n",
            " [1 0 0 2 1 0 0 0 0 1]\n",
            " [0 0 0 1 0 1 0 1 0 0]]\n"
          ]
        }
      ]
    }
  ]
}