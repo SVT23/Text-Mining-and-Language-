{
  "nbformat": 4,
  "nbformat_minor": 0,
  "metadata": {
    "colab": {
      "provenance": [],
      "toc_visible": true,
      "include_colab_link": true
    },
    "kernelspec": {
      "name": "python3",
      "display_name": "Python 3"
    },
    "language_info": {
      "name": "python"
    }
  },
  "cells": [
    {
      "cell_type": "markdown",
      "metadata": {
        "id": "view-in-github",
        "colab_type": "text"
      },
      "source": [
        "<a href=\"https://colab.research.google.com/github/SVT23/Text-Mining-and-Language-/blob/main/TM_topic_modeling.ipynb\" target=\"_parent\"><img src=\"https://colab.research.google.com/assets/colab-badge.svg\" alt=\"Open In Colab\"/></a>"
      ]
    },
    {
      "cell_type": "markdown",
      "source": [
        "# Topic modeling\n",
        "\"Topic models are algorithms for discovering the main themes that\n",
        "pervade a large and otherwise unstructured collection of documents.\n",
        "Topic models can organize the collection according to the discovered themes.\" \n",
        "\n",
        "\"The goal of topic modeling is to automatically discover the topics\n",
        "from a collection of documents.\"\n",
        "\n",
        "* For more details see the article http://www.cs.columbia.edu/~blei/papers/Blei2012.pdf  \n",
        "\n",
        "\n",
        "This notebook shows how to perform topic modeling with LDA with the newsgroup data from scikit-learn\n",
        "\n",
        "CODE from \n",
        "* https://scikit-learn.org/stable/auto_examples/applications/plot_topics_extraction_with_nmf_lda.html \n",
        "* and slightly https://machinelearninggeek.com/latent-dirichlet-allocation-using-scikit-learn/ "
      ],
      "metadata": {
        "id": "k2RGPQW2EfRj"
      }
    },
    {
      "cell_type": "code",
      "source": [
        "import pandas as pd\n",
        "import numpy as np \n",
        "from nltk.tokenize import RegexpTokenizer\n",
        "from sklearn.feature_extraction.text import TfidfVectorizer\n",
        "from sklearn.decomposition import LatentDirichletAllocation"
      ],
      "metadata": {
        "id": "5UndKSXtATot"
      },
      "execution_count": null,
      "outputs": []
    },
    {
      "cell_type": "markdown",
      "source": [
        "# dataset \n",
        "see more at:\n",
        "https://scikit-learn.org/stable/modules/generated/sklearn.datasets.fetch_20newsgroups.html "
      ],
      "metadata": {
        "id": "PosRKQyZEuxN"
      }
    },
    {
      "cell_type": "code",
      "source": [
        "# Load Dataset\n",
        "from sklearn.datasets import fetch_20newsgroups\n",
        "\n",
        "# Load some categories from the training set\n",
        "categories = [\n",
        "    \"alt.atheism\",\n",
        "    \"talk.religion.misc\",\n",
        "    \"comp.graphics\",\n",
        "    \"sci.space\",\n",
        "]\n",
        "# Uncomment the following to do the analysis on all the categories\n",
        "# categories = None\n",
        "\n",
        "print(\"Loading 20 newsgroups dataset for categories:\")\n",
        "print(categories)\n",
        "\n",
        "dataset = fetch_20newsgroups(\n",
        "    subset=\"train\", categories=categories, shuffle=True, random_state=42\n",
        ")\n",
        "\n",
        "print(\"%d documents\" % len(dataset.data))\n",
        "print(\"%d categories\" % len(dataset.target_names))\n"
      ],
      "metadata": {
        "colab": {
          "base_uri": "https://localhost:8080/"
        },
        "id": "yTpKuGwSAdIr",
        "outputId": "274009ea-0e62-47c8-d31c-c515f72718ff"
      },
      "execution_count": null,
      "outputs": [
        {
          "output_type": "stream",
          "name": "stdout",
          "text": [
            "Loading 20 newsgroups dataset for categories:\n",
            "['alt.atheism', 'talk.religion.misc', 'comp.graphics', 'sci.space']\n",
            "2034 documents\n",
            "4 categories\n"
          ]
        }
      ]
    },
    {
      "cell_type": "markdown",
      "source": [
        "#vectorize the data"
      ],
      "metadata": {
        "id": "hi0bmHBQE1Li"
      }
    },
    {
      "cell_type": "code",
      "source": [
        "# Vectorize document using TF-IDF\n",
        "n_features = 5000\n",
        "tfidf_vectorizer = TfidfVectorizer(lowercase=True,\n",
        "                            ngram_range = (1,1),\n",
        "                            max_df=0.95, min_df=2, \n",
        "                            max_features=n_features, \n",
        "                            stop_words=\"english\"\n",
        ")\n",
        "\n",
        "# Fit and Transform the documents\n",
        "X = tfidf_vectorizer.fit_transform(dataset.data)  \n",
        "\n",
        "# get the actual words from the vectorized data\n",
        "tf_feature_names = tfidf_vectorizer.get_feature_names_out()\n",
        "\n",
        "print(\"n_samples: %d, n_features: %d\" % X.shape)"
      ],
      "metadata": {
        "colab": {
          "base_uri": "https://localhost:8080/"
        },
        "id": "Q-tp_VrxA4jA",
        "outputId": "675f0766-37db-4b85-909d-76484b5ca327"
      },
      "execution_count": null,
      "outputs": [
        {
          "output_type": "stream",
          "name": "stdout",
          "text": [
            "n_samples: 2034, n_features: 5000\n"
          ]
        }
      ]
    },
    {
      "cell_type": "markdown",
      "source": [
        "#perform LDA\n",
        "LDA is a probabilistic, generative model for a set of documents. Given the number of topics, it returns the topics based on the documents and the words in each topic.\n",
        "More details including the method and notation for LDA (which we will not cover) in http://www.cs.columbia.edu/~blei/papers/Blei2012.pdf "
      ],
      "metadata": {
        "id": "MBm4bjHoBXex"
      }
    },
    {
      "cell_type": "code",
      "source": [
        "# Define the number of TOPICS or components\n",
        "num_components=4\n",
        "\n",
        "# Create LDA object\n",
        "ldamodel=LatentDirichletAllocation(n_components=num_components)\n",
        "\n",
        "# Fit and Transform model on data that has already been vectorized\n",
        "lda_matrix = ldamodel.fit_transform(X)\n",
        "\n",
        "# Get Components from the lda model\n",
        "# components_[i, j] can be viewed as pseudocount that represents the number of \n",
        "# times word j was assigned to topic i. from scikit-learn\n",
        "lda_components=ldamodel.components_"
      ],
      "metadata": {
        "id": "Dsx9RlK0BRz1"
      },
      "execution_count": null,
      "outputs": []
    },
    {
      "cell_type": "code",
      "source": [
        "# view the topic models\n",
        "n_top_words = 10 # how many words per topic\n",
        "\n",
        "for i, topic in enumerate(lda_components):\n",
        "    # numpy argsort: Returns the indices that would sort an array\n",
        "    # we want the last n_top_words indices, as they have the highest counts \n",
        "    \n",
        "    top_features_index = topic.argsort() [  :-n_top_words - 1 : -1 ]\n",
        "\n",
        "    # based on indices, get the words, from the vectorizer features\n",
        "    top_features = [tf_feature_names[i] for i in top_features_index]\n",
        "    print('topic', i, top_features)"
      ],
      "metadata": {
        "colab": {
          "base_uri": "https://localhost:8080/"
        },
        "id": "Egfr_yJEF0Y1",
        "outputId": "0a19698d-301f-432f-e67c-1e9576ab23d8"
      },
      "execution_count": null,
      "outputs": [
        {
          "output_type": "stream",
          "name": "stdout",
          "text": [
            "topic 0 ['dseg', 'cruel', 'compaq', 'pyron', 'nicho', 'wpd', 'solntze', 'skndiv', 'prism', 'edm']\n",
            "topic 1 ['edu', 'god', 'com', 'people', 'keith', 'writes', 'don', 'sandvik', 'article', 'jesus']\n",
            "topic 2 ['space', 'edu', 'nasa', 'com', 'gov', 'access', 'henry', 'article', 'alaska', 'toronto']\n",
            "topic 3 ['graphics', 'files', 'edu', 'file', 'image', 'ac', 'thanks', 'polygon', 'color', 'university']\n"
          ]
        }
      ]
    },
    {
      "cell_type": "code",
      "source": [
        "# another way from https://machinelearninggeek.com/latent-dirichlet-allocation-using-scikit-learn/\n",
        "# Print the topics with their terms\n",
        "for index, topic in enumerate(lda_components):\n",
        "    zipped = zip(tf_feature_names, topic)\n",
        "    top_terms_key=sorted(zipped, key = lambda t: t[1], reverse=True)[:10]\n",
        "    top_terms_list=list(dict(top_terms_key).keys())\n",
        "    print(\"Topic \"+str(index)+\": \",top_terms_list)"
      ],
      "metadata": {
        "colab": {
          "base_uri": "https://localhost:8080/"
        },
        "id": "jZGonFU5BdDq",
        "outputId": "8b963d07-7b2c-409e-ed9c-99aae8b191c8"
      },
      "execution_count": null,
      "outputs": [
        {
          "output_type": "stream",
          "name": "stdout",
          "text": [
            "Topic 0:  ['dseg', 'cruel', 'compaq', 'pyron', 'nicho', 'wpd', 'solntze', 'skndiv', 'prism', 'edm']\n",
            "Topic 1:  ['edu', 'god', 'com', 'people', 'keith', 'writes', 'don', 'sandvik', 'article', 'jesus']\n",
            "Topic 2:  ['space', 'edu', 'nasa', 'com', 'gov', 'access', 'henry', 'article', 'alaska', 'toronto']\n",
            "Topic 3:  ['graphics', 'files', 'edu', 'file', 'image', 'ac', 'thanks', 'polygon', 'color', 'university']\n"
          ]
        }
      ]
    },
    {
      "cell_type": "markdown",
      "source": [
        "# plots of the topics and words"
      ],
      "metadata": {
        "id": "njDgevy8Fu0A"
      }
    },
    {
      "cell_type": "code",
      "source": [
        "# taken from \n",
        "# https://scikit-learn.org/stable/auto_examples/applications/plot_topics_extraction_with_nmf_lda.html\n",
        "def plot_top_words(model, feature_names, n_top_words, title):\n",
        "    fig, axes = plt.subplots(1, 4, figsize=(15, 10), sharex=True)\n",
        "    axes = axes.flatten()\n",
        "    for topic_idx, topic in enumerate(model.components_):\n",
        "        top_features_ind = topic.argsort()[: -n_top_words - 1 : -1]\n",
        "        top_features = [feature_names[i] for i in top_features_ind]\n",
        "        weights = topic[top_features_ind]\n",
        "\n",
        "        ax = axes[topic_idx]\n",
        "        ax.barh(top_features, weights, height=0.6)\n",
        "        ax.set_title(f\"Topic {topic_idx +1}\", fontdict={\"fontsize\": 20})\n",
        "        ax.invert_yaxis()\n",
        "        ax.tick_params(axis=\"both\", which=\"major\", labelsize=10)\n",
        "        for i in \"top right left\".split():\n",
        "            ax.spines[i].set_visible(False)\n",
        "        fig.suptitle(title, fontsize=20)\n",
        "\n",
        "    plt.subplots_adjust(top=0.90, bottom=0.05, wspace=0.90, hspace=0.3)\n",
        "    plt.show()"
      ],
      "metadata": {
        "id": "bQYPcHO4DGec"
      },
      "execution_count": null,
      "outputs": []
    },
    {
      "cell_type": "code",
      "source": [
        "import matplotlib.pyplot as plt\n",
        "n_top_words = 20\n",
        "plot_top_words(ldamodel, tf_feature_names, n_top_words, \"Topics in LDA model\")"
      ],
      "metadata": {
        "colab": {
          "base_uri": "https://localhost:8080/",
          "height": 546
        },
        "id": "8Nhk43f9CvP6",
        "outputId": "54fed292-8f01-4df4-fa1e-057051934d28"
      },
      "execution_count": null,
      "outputs": [
        {
          "output_type": "display_data",
          "data": {
            "text/plain": [
              "<Figure size 1080x720 with 4 Axes>"
            ],
            "image/png": "[encoded data removed]"
          },
          "metadata": {
            "needs_background": "light"
          }
        }
      ]
    }
  ]
}